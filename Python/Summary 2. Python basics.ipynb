{
 "cells": [
  {
   "cell_type": "markdown",
   "metadata": {},
   "source": [
    "# Источники"
   ]
  },
  {
   "cell_type": "markdown",
   "metadata": {},
   "source": [
    "Оригинальная документация:\n",
    "https://docs.python.org/3.1/index.html\n",
    "Разделы:\n",
    "- https://docs.python.org/3.1/tutorial/index.html - учебник.\n",
    "    - Перевод: https://ru.wikibooks.org/wiki/Python/Учебник_Python_3.1\n",
    "- https://docs.python.org/3.1/reference/ - справочник по языку\n",
    "    - Частичный перевод: https://ru.wikibooks.org/wiki/Python/Справочник_по_языку_Python_3.1\n",
    "- https://docs.python.org/3.1/library/index.html -справочник по стандартным библиотекам\n",
    "    - Попытка перевода: https://ru.wikibooks.org/wiki/Python/Справочник_по_библиотеке_Python_3.1\n",
    "\n",
    "Ещё хорошая книжка: Dive into Python.\n",
    "\n",
    "Частичный перевод Dive into Python 3: https://ru.wikisource.org/wiki/Погружение_в_Python_3_(Пилгрим)\n",
    "\n",
    "Полный перевод Dive into Python 2: http://ru.diveintopython.net/toc.html"
   ]
  },
  {
   "cell_type": "markdown",
   "metadata": {},
   "source": [
    "# Примеры"
   ]
  },
  {
   "cell_type": "markdown",
   "metadata": {},
   "source": [
    "## Операции"
   ]
  },
  {
   "cell_type": "code",
   "execution_count": 1,
   "metadata": {
    "collapsed": false
   },
   "outputs": [
    {
     "name": "stdout",
     "output_type": "stream",
     "text": [
      "Тес\"т Te'st\n"
     ]
    }
   ],
   "source": [
    "a = 'Тес\"т'\n",
    "b = \" Te'st\"\n",
    "print(a + b)"
   ]
  },
  {
   "cell_type": "code",
   "execution_count": 19,
   "metadata": {
    "collapsed": false
   },
   "outputs": [
    {
     "name": "stdout",
     "output_type": "stream",
     "text": [
      "-2\n"
     ]
    }
   ],
   "source": [
    "a = 1\n",
    "a = ~a\n",
    "print(a)"
   ]
  },
  {
   "cell_type": "markdown",
   "metadata": {},
   "source": [
    "## Просто код"
   ]
  },
  {
   "cell_type": "markdown",
   "metadata": {},
   "source": [
    "QuickSort в C-стиле"
   ]
  },
  {
   "cell_type": "code",
   "execution_count": 3,
   "metadata": {
    "collapsed": false
   },
   "outputs": [
    {
     "name": "stdout",
     "output_type": "stream",
     "text": [
      " array:  [1, 2, 3, 34, 21, 23, 12, 2, 543, 23, 12, 4, 76, 23]\n",
      " begin:  0\n",
      " end:  14\n",
      " mid:  7\n",
      " leftEnd:  2\n",
      "   array:  [1, 2, 3, 34, 21, 23, 12, 2, 543, 23, 12, 4, 76, 23]\n",
      "   begin:  2\n",
      "   end:  14\n",
      "   mid:  8\n",
      "   leftEnd:  14\n",
      "     array:  [1, 2, 23, 34, 21, 23, 12, 2, 3, 23, 12, 4, 76, 543]\n",
      "     begin:  2\n",
      "     end:  13\n",
      "     mid:  7\n",
      "     leftEnd:  3\n",
      "       array:  [1, 2, 2, 34, 21, 23, 12, 23, 3, 23, 12, 4, 76, 543]\n",
      "       begin:  3\n",
      "       end:  13\n",
      "       mid:  8\n",
      "       leftEnd:  4\n",
      "         array:  [1, 2, 2, 3, 21, 23, 12, 23, 34, 23, 12, 4, 76, 543]\n",
      "         begin:  4\n",
      "         end:  13\n",
      "         mid:  8\n",
      "         leftEnd:  12\n",
      "           array:  [1, 2, 2, 3, 4, 23, 12, 23, 21, 23, 12, 34, 76, 543]\n",
      "           begin:  4\n",
      "           end:  11\n",
      "           mid:  7\n",
      "           leftEnd:  9\n",
      "             array:  [1, 2, 2, 3, 21, 12, 12, 4, 23, 23, 23, 34, 76, 543]\n",
      "             begin:  4\n",
      "             end:  8\n",
      "             mid:  6\n",
      "             leftEnd:  6\n",
      "               array:  [1, 2, 2, 3, 4, 12, 21, 12, 23, 23, 23, 34, 76, 543]\n",
      "               begin:  6\n",
      "               end:  8\n",
      "               mid:  7\n",
      "               leftEnd:  7\n",
      "             array:  [1, 2, 2, 3, 4, 12, 12, 21, 23, 23, 23, 34, 76, 543]\n",
      "             begin:  9\n",
      "             end:  11\n",
      "             mid:  10\n",
      "             leftEnd:  10\n",
      "[1, 2, 2, 3, 4, 12, 12, 21, 23, 23, 23, 34, 76, 543]\n"
     ]
    }
   ],
   "source": [
    "def QuickSortStep(a, begin, end, indent = \"\"):\n",
    "    if end - begin <= 1:\n",
    "        return\n",
    "    print(indent, \"array: \", a)\n",
    "    print(indent, \"begin: \", begin)\n",
    "    print(indent, \"end: \", end)\n",
    "    mid = (end + begin) // 2\n",
    "    a[begin], a[mid] = a[mid], a[begin]\n",
    "    print(indent, \"mid: \", mid)\n",
    "    leftEnd = begin + 1\n",
    "    rightBegin = end\n",
    "    while leftEnd < rightBegin:\n",
    "        if a[leftEnd] < a[begin]:\n",
    "            leftEnd += 1\n",
    "        elif a[rightBegin - 1] >= a[begin]:\n",
    "            rightBegin -= 1\n",
    "        else:\n",
    "            assert leftEnd < rightBegin - 1 \n",
    "            rightBegin -= 1\n",
    "            a[leftEnd], a[rightBegin] = a[rightBegin], a[leftEnd]\n",
    "            leftEnd += 1\n",
    "    print(indent, \"leftEnd: \", leftEnd)\n",
    "    assert leftEnd == rightBegin\n",
    "    if leftEnd - 1 > begin:\n",
    "        a[begin], a[leftEnd - 1] = a[leftEnd - 1], a[begin]\n",
    "        QuickSortStep(a, begin, leftEnd - 1, indent + \"  \")\n",
    "        QuickSortStep(a, rightBegin, end, indent + \"  \")\n",
    "    else:\n",
    "        QuickSortStep(a, begin + 1, end, indent + \"  \")\n",
    "\n",
    "def QuickSort(a):\n",
    "    QuickSortStep(a, 0, len(a))\n",
    "\n",
    "a = [1, 2, 3, 34, 21, 23, 12, 2, 543, 23, 12, 4, 76, 23]\n",
    "QuickSort(a)\n",
    "print(a)"
   ]
  },
  {
   "cell_type": "markdown",
   "metadata": {},
   "source": [
    "## Кортеж"
   ]
  },
  {
   "cell_type": "code",
   "execution_count": 8,
   "metadata": {
    "collapsed": false
   },
   "outputs": [
    {
     "name": "stdout",
     "output_type": "stream",
     "text": [
      "(0, 1, 2, 3, 4)\n",
      "(0, 1, '2', True)\n",
      "(0,)\n",
      "()\n",
      "((0, 1), ('2', True))\n",
      "(0, 1)\n"
     ]
    }
   ],
   "source": [
    "a = tuple(range(5))\n",
    "print(a)\n",
    "a = 0, 1, '2', True\n",
    "print(a)\n",
    "a = 0,\n",
    "print(a)\n",
    "a = ()\n",
    "print(a)\n",
    "a = (0, 1), ('2', True)\n",
    "print(a)\n",
    "a1, a2 = a\n",
    "print(a1)"
   ]
  },
  {
   "cell_type": "markdown",
   "metadata": {},
   "source": [
    "## Множество"
   ]
  },
  {
   "cell_type": "code",
   "execution_count": 9,
   "metadata": {
    "collapsed": false
   },
   "outputs": [
    {
     "name": "stdout",
     "output_type": "stream",
     "text": [
      "{0, 1, 2, 3, 4}\n",
      "{1, 'b', 'a', 'A'}\n",
      "True\n",
      "False\n",
      "set()\n",
      "a =  {'c', 'd', 'b', 'a', 'e'}\n",
      "b =  {'e', 'h', 'd', 'f', 'g'}\n",
      "a - b =  {'c', 'b', 'a'}\n",
      "a | b =  {'h', 'c', 'e', 'b', 'g', 'd', 'f', 'a'}\n",
      "a & b =  {'e', 'd'}\n",
      "a ^ b =  {'h', 'c', 'b', 'g', 'f', 'a'}\n"
     ]
    }
   ],
   "source": [
    "a = set(range(5))\n",
    "print(a)\n",
    "a = {'a', 'A', 'b', 1}\n",
    "print(a)\n",
    "print('b' in a)\n",
    "print('B' in a)\n",
    "a = set() # Пустое множество\n",
    "print(a)\n",
    "a = set('abcde')\n",
    "b = set('defgh')\n",
    "print('a = ', a)\n",
    "print('b = ', b)\n",
    "print('a - b = ', a - b)\n",
    "print('a | b = ', a | b)\n",
    "print('a & b = ', a & b)\n",
    "print('a ^ b = ', a ^ b)"
   ]
  },
  {
   "cell_type": "markdown",
   "metadata": {},
   "source": [
    "## Словари"
   ]
  },
  {
   "cell_type": "code",
   "execution_count": 10,
   "metadata": {
    "collapsed": false
   },
   "outputs": [
    {
     "name": "stdout",
     "output_type": "stream",
     "text": [
      "{'Name2': 'Phone2', 'Name3': 'Phone3', 'Name1': 'Phone1'}\n",
      "Name2 :  Phone2\n",
      "Name3 :  Phone3\n",
      "Name1 :  Phone1\n",
      "dict_keys(['Name2', 'Name3', 'Name1'])\n",
      "['Name1', 'Name2', 'Name3']\n",
      "True\n",
      "123\n"
     ]
    }
   ],
   "source": [
    "a = {'Name1': 'Phone1', 'Name2': 'Phone2', 'Name3': 'Phone3' }\n",
    "print(a)\n",
    "for k, v in a.items():\n",
    "    print(k, ': ', v)\n",
    "print(a.keys())\n",
    "print(sorted(a.keys()))\n",
    "print('Name1' in a)\n",
    "a['Name4'] = 123\n",
    "print(a['Name4'])"
   ]
  },
  {
   "cell_type": "markdown",
   "metadata": {},
   "source": [
    "## Разное"
   ]
  },
  {
   "cell_type": "code",
   "execution_count": 11,
   "metadata": {
    "collapsed": false
   },
   "outputs": [
    {
     "name": "stdout",
     "output_type": "stream",
     "text": [
      "0 .  one\n",
      "1 .  two\n",
      "2 .  three\n"
     ]
    }
   ],
   "source": [
    "a = ['one', 'two', 'three']\n",
    "for i, x in enumerate(a):\n",
    "    print(i, '. ', x)"
   ]
  },
  {
   "cell_type": "code",
   "execution_count": 13,
   "metadata": {
    "collapsed": false
   },
   "outputs": [
    {
     "name": "stdout",
     "output_type": "stream",
     "text": [
      "<generator object PowerGenerator at 0x000000C2D0EC1410>\n",
      "<function ScalarMul at 0x000000C2D10C9950>\n",
      "[1, 2, 4, 8, 16, 32, 64, 128, 256, 512]\n"
     ]
    }
   ],
   "source": [
    "def PowerGenerator(n):\n",
    "    x = 1\n",
    "    for i in range(n):\n",
    "        yield x\n",
    "        x *= 2\n",
    "\n",
    "gen = PowerGenerator(10)\n",
    "print(gen)\n",
    "print(ScalarMul)\n",
    "print(list(gen))"
   ]
  },
  {
   "cell_type": "markdown",
   "metadata": {},
   "source": [
    "## Модули"
   ]
  },
  {
   "cell_type": "code",
   "execution_count": 14,
   "metadata": {
    "collapsed": false
   },
   "outputs": [
    {
     "name": "stdout",
     "output_type": "stream",
     "text": [
      "In : \n",
      "...: \n",
      "sys.path:\n",
      "  \n",
      "  C:\\Anaconda3\\python35.zip\n",
      "  C:\\Anaconda3\\DLLs\n",
      "  C:\\Anaconda3\\lib\n",
      "  C:\\Anaconda3\n",
      "  C:\\Anaconda3\\lib\\site-packages\n",
      "  C:\\Anaconda3\\lib\\site-packages\\Sphinx-1.4.1-py3.5.egg\n",
      "  C:\\Anaconda3\\lib\\site-packages\\win32\n",
      "  C:\\Anaconda3\\lib\\site-packages\\win32\\lib\n",
      "  C:\\Anaconda3\\lib\\site-packages\\Pythonwin\n",
      "  C:\\Anaconda3\\lib\\site-packages\\setuptools-23.0.0-py3.5.egg\n",
      "  C:\\Anaconda3\\lib\\site-packages\\IPython\\extensions\n",
      "  C:\\Users\\boriss\\.ipython\n"
     ]
    }
   ],
   "source": [
    "import sys\n",
    "print(sys.ps1)\n",
    "print(sys.ps2)\n",
    "print('sys.path:', *sys.path, sep = '\\n  ') # Пути поиска модулей для импорта"
   ]
  },
  {
   "cell_type": "code",
   "execution_count": 15,
   "metadata": {
    "collapsed": false
   },
   "outputs": [
    {
     "name": "stdout",
     "output_type": "stream",
     "text": [
      "['__displayhook__', '__doc__', '__excepthook__', '__interactivehook__', '__loader__', '__name__', '__package__', '__spec__', '__stderr__', '__stdin__', '__stdout__', '_clear_type_cache', '_current_frames', '_debugmallocstats', '_getframe', '_home', '_mercurial', '_xoptions', 'api_version', 'argv', 'base_exec_prefix', 'base_prefix', 'builtin_module_names', 'byteorder', 'call_tracing', 'callstats', 'copyright', 'displayhook', 'dllhandle', 'dont_write_bytecode', 'exc_info', 'excepthook', 'exec_prefix', 'executable', 'exit', 'flags', 'float_info', 'float_repr_style', 'get_coroutine_wrapper', 'getallocatedblocks', 'getcheckinterval', 'getdefaultencoding', 'getfilesystemencoding', 'getprofile', 'getrecursionlimit', 'getrefcount', 'getsizeof', 'getswitchinterval', 'gettrace', 'getwindowsversion', 'hash_info', 'hexversion', 'implementation', 'int_info', 'intern', 'is_finalizing', 'maxsize', 'maxunicode', 'meta_path', 'modules', 'path', 'path_hooks', 'path_importer_cache', 'platform', 'prefix', 'ps1', 'ps2', 'ps3', 'set_coroutine_wrapper', 'setcheckinterval', 'setprofile', 'setrecursionlimit', 'setswitchinterval', 'settrace', 'stderr', 'stdin', 'stdout', 'thread_info', 'version', 'version_info', 'warnoptions', 'winver']\n"
     ]
    }
   ],
   "source": [
    "print(dir(sys)) # Имена, определённые в модуле"
   ]
  },
  {
   "cell_type": "code",
   "execution_count": 16,
   "metadata": {
    "collapsed": false
   },
   "outputs": [
    {
     "name": "stdout",
     "output_type": "stream",
     "text": [
      "['In', 'Out', 'ParallelAdd', 'ParallelMul', 'ParallelOp', 'PowerGenerator', 'QuickSort', 'QuickSortStep', 'ScalarMul', '_', '__', '___', '__builtin__', '__builtins__', '__doc__', '__loader__', '__name__', '__package__', '__spec__', '_dh', '_i', '_i1', '_i10', '_i11', '_i12', '_i13', '_i14', '_i15', '_i16', '_i2', '_i3', '_i4', '_i5', '_i6', '_i7', '_i8', '_i9', '_ih', '_ii', '_iii', '_oh', '_sh', 'a', 'a1', 'a2', 'b', 'basket', 'c', 'exit', 'f', 'gen', 'get_ipython', 'i', 'k', 'quit', 'sys', 't', 'v', 'x']\n"
     ]
    }
   ],
   "source": [
    "print(dir())"
   ]
  },
  {
   "cell_type": "code",
   "execution_count": 17,
   "metadata": {
    "collapsed": false
   },
   "outputs": [
    {
     "name": "stdout",
     "output_type": "stream",
     "text": [
      "['ArithmeticError', 'AssertionError', 'AttributeError', 'BaseException', 'BlockingIOError', 'BrokenPipeError', 'BufferError', 'BytesWarning', 'ChildProcessError', 'ConnectionAbortedError', 'ConnectionError', 'ConnectionRefusedError', 'ConnectionResetError', 'DeprecationWarning', 'EOFError', 'Ellipsis', 'EnvironmentError', 'Exception', 'False', 'FileExistsError', 'FileNotFoundError', 'FloatingPointError', 'FutureWarning', 'GeneratorExit', 'IOError', 'ImportError', 'ImportWarning', 'IndentationError', 'IndexError', 'InterruptedError', 'IsADirectoryError', 'KeyError', 'KeyboardInterrupt', 'LookupError', 'MemoryError', 'NameError', 'None', 'NotADirectoryError', 'NotImplemented', 'NotImplementedError', 'OSError', 'OverflowError', 'PendingDeprecationWarning', 'PermissionError', 'ProcessLookupError', 'RecursionError', 'ReferenceError', 'ResourceWarning', 'RuntimeError', 'RuntimeWarning', 'StopAsyncIteration', 'StopIteration', 'SyntaxError', 'SyntaxWarning', 'SystemError', 'SystemExit', 'TabError', 'TimeoutError', 'True', 'TypeError', 'UnboundLocalError', 'UnicodeDecodeError', 'UnicodeEncodeError', 'UnicodeError', 'UnicodeTranslateError', 'UnicodeWarning', 'UserWarning', 'ValueError', 'Warning', 'WindowsError', 'ZeroDivisionError', '__IPYTHON__', '__IPYTHON__active', '__build_class__', '__debug__', '__doc__', '__import__', '__loader__', '__name__', '__package__', '__spec__', 'abs', 'all', 'any', 'ascii', 'bin', 'bool', 'bytearray', 'bytes', 'callable', 'chr', 'classmethod', 'compile', 'complex', 'copyright', 'credits', 'delattr', 'dict', 'dir', 'divmod', 'dreload', 'enumerate', 'eval', 'exec', 'filter', 'float', 'format', 'frozenset', 'get_ipython', 'getattr', 'globals', 'hasattr', 'hash', 'help', 'hex', 'id', 'input', 'int', 'isinstance', 'issubclass', 'iter', 'len', 'license', 'list', 'locals', 'map', 'max', 'memoryview', 'min', 'next', 'object', 'oct', 'open', 'ord', 'pow', 'print', 'property', 'range', 'repr', 'reversed', 'round', 'set', 'setattr', 'slice', 'sorted', 'staticmethod', 'str', 'sum', 'super', 'tuple', 'type', 'vars', 'zip']\n"
     ]
    }
   ],
   "source": [
    "import builtins # Этот модуль всегда включён по умолчанию\n",
    "print(dir(builtins))"
   ]
  }
 ],
 "metadata": {
  "anaconda-cloud": {},
  "kernelspec": {
   "display_name": "Python [Root]",
   "language": "python",
   "name": "Python [Root]"
  },
  "language_info": {
   "codemirror_mode": {
    "name": "ipython",
    "version": 3
   },
   "file_extension": ".py",
   "mimetype": "text/x-python",
   "name": "python",
   "nbconvert_exporter": "python",
   "pygments_lexer": "ipython3",
   "version": "3.5.2"
  }
 },
 "nbformat": 4,
 "nbformat_minor": 0
}
