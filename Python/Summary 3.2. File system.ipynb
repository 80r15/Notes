{
 "metadata": {
  "name": "",
  "signature": "sha256:abd37cd24424d88ad9883a6a10af5251dd816730eab0bb78e936a2474e171455"
 },
 "nbformat": 3,
 "nbformat_minor": 0,
 "worksheets": [
  {
   "cells": [
    {
     "cell_type": "heading",
     "level": 1,
     "metadata": {},
     "source": [
      "\u0424\u0430\u0439\u043b\u043e\u0432\u0430\u044f \u0441\u0438\u0441\u0442\u0435\u043c\u0430"
     ]
    },
    {
     "cell_type": "markdown",
     "metadata": {},
     "source": [
      "\u0418\u0441\u0442\u043e\u0447\u043d\u0438\u043a (\u0440\u0430\u0437\u0434\u0435\u043b 10): https://docs.python.org/3.1/library/index.html"
     ]
    },
    {
     "cell_type": "heading",
     "level": 2,
     "metadata": {},
     "source": [
      "\u041f\u0443\u0442\u0438"
     ]
    },
    {
     "cell_type": "markdown",
     "metadata": {},
     "source": [
      "\u0418\u0441\u0442\u043e\u0447\u043d\u0438\u043a (10.1): https://docs.python.org/3.1/library/os.path.html\n",
      "\n",
      "\u041c\u043e\u0434\u0443\u043b\u044c os.path"
     ]
    },
    {
     "cell_type": "code",
     "collapsed": false,
     "input": [
      "import os"
     ],
     "language": "python",
     "metadata": {},
     "outputs": [],
     "prompt_number": 1
    },
    {
     "cell_type": "heading",
     "level": 3,
     "metadata": {},
     "source": [
      "\u0421\u043b\u0438\u044f\u043d\u0438\u0435 \u043f\u0443\u0442\u0435\u0439"
     ]
    },
    {
     "cell_type": "code",
     "collapsed": false,
     "input": [
      "# \u0422\u0435\u043a\u0443\u0449\u0438\u0439 \u043f\u0443\u0442\u044c\n",
      "currentPath = os.getcwd()\n",
      "currentPath"
     ],
     "language": "python",
     "metadata": {},
     "outputs": [
      {
       "metadata": {},
       "output_type": "pyout",
       "prompt_number": 2,
       "text": [
        "'D:\\\\Documents\\\\Python\\\\Notebook'"
       ]
      }
     ],
     "prompt_number": 2
    },
    {
     "cell_type": "code",
     "collapsed": false,
     "input": [
      "os.path.abspath('Temp.txt')"
     ],
     "language": "python",
     "metadata": {},
     "outputs": [
      {
       "metadata": {},
       "output_type": "pyout",
       "prompt_number": 3,
       "text": [
        "'D:\\\\Documents\\\\Python\\\\Notebook\\\\Temp.txt'"
       ]
      }
     ],
     "prompt_number": 3
    },
    {
     "cell_type": "code",
     "collapsed": false,
     "input": [
      "os.path.join(currentPath, 'Temp.txt')"
     ],
     "language": "python",
     "metadata": {},
     "outputs": [
      {
       "metadata": {},
       "output_type": "pyout",
       "prompt_number": 4,
       "text": [
        "'D:\\\\Documents\\\\Python\\\\Notebook\\\\Temp.txt'"
       ]
      }
     ],
     "prompt_number": 4
    },
    {
     "cell_type": "code",
     "collapsed": false,
     "input": [
      "os.path.normpath('D:\\\\//temp\\\\1\\\\..\\\\')"
     ],
     "language": "python",
     "metadata": {},
     "outputs": [
      {
       "metadata": {},
       "output_type": "pyout",
       "prompt_number": 5,
       "text": [
        "'D:\\\\temp'"
       ]
      }
     ],
     "prompt_number": 5
    },
    {
     "cell_type": "heading",
     "level": 3,
     "metadata": {},
     "source": [
      "\u0420\u0430\u0437\u0431\u0438\u0435\u043d\u0438\u0435 \u043f\u0443\u0442\u0438"
     ]
    },
    {
     "cell_type": "code",
     "collapsed": false,
     "input": [
      "tempFile = os.path.abspath('Temp.txt')\n",
      "tempFile"
     ],
     "language": "python",
     "metadata": {},
     "outputs": [
      {
       "metadata": {},
       "output_type": "pyout",
       "prompt_number": 6,
       "text": [
        "'D:\\\\Documents\\\\Python\\\\Notebook\\\\Temp.txt'"
       ]
      }
     ],
     "prompt_number": 6
    },
    {
     "cell_type": "code",
     "collapsed": false,
     "input": [
      "os.path.split(tempFile)"
     ],
     "language": "python",
     "metadata": {},
     "outputs": [
      {
       "metadata": {},
       "output_type": "pyout",
       "prompt_number": 7,
       "text": [
        "('D:\\\\Documents\\\\Python\\\\Notebook', 'Temp.txt')"
       ]
      }
     ],
     "prompt_number": 7
    },
    {
     "cell_type": "code",
     "collapsed": false,
     "input": [
      "os.path.splitdrive(tempFile)"
     ],
     "language": "python",
     "metadata": {},
     "outputs": [
      {
       "metadata": {},
       "output_type": "pyout",
       "prompt_number": 8,
       "text": [
        "('D:', '\\\\Documents\\\\Python\\\\Notebook\\\\Temp.txt')"
       ]
      }
     ],
     "prompt_number": 8
    },
    {
     "cell_type": "code",
     "collapsed": false,
     "input": [
      "os.path.splitext(tempFile)"
     ],
     "language": "python",
     "metadata": {},
     "outputs": [
      {
       "metadata": {},
       "output_type": "pyout",
       "prompt_number": 9,
       "text": [
        "('D:\\\\Documents\\\\Python\\\\Notebook\\\\Temp', '.txt')"
       ]
      }
     ],
     "prompt_number": 9
    },
    {
     "cell_type": "code",
     "collapsed": false,
     "input": [
      "os.path.dirname(tempFile)"
     ],
     "language": "python",
     "metadata": {},
     "outputs": [
      {
       "metadata": {},
       "output_type": "pyout",
       "prompt_number": 10,
       "text": [
        "'D:\\\\Documents\\\\Python\\\\Notebook'"
       ]
      }
     ],
     "prompt_number": 10
    },
    {
     "cell_type": "code",
     "collapsed": false,
     "input": [
      "os.path.basename(tempFile)"
     ],
     "language": "python",
     "metadata": {},
     "outputs": [
      {
       "metadata": {},
       "output_type": "pyout",
       "prompt_number": 11,
       "text": [
        "'Temp.txt'"
       ]
      }
     ],
     "prompt_number": 11
    },
    {
     "cell_type": "code",
     "collapsed": false,
     "input": [
      "os.path.exists(tempFile) # \u0421\u0443\u0449\u0435\u0441\u0442\u0432\u0443\u0435\u0442 \u043b\u0438 \u0444\u0430\u0439\u043b \u0438\u043b\u0438 \u043f\u0430\u043f\u043a\u0430"
     ],
     "language": "python",
     "metadata": {},
     "outputs": [
      {
       "metadata": {},
       "output_type": "pyout",
       "prompt_number": 12,
       "text": [
        "False"
       ]
      }
     ],
     "prompt_number": 12
    },
    {
     "cell_type": "code",
     "collapsed": false,
     "input": [
      "os.path.isabs(tempFile) # \u0410\u0431\u0441\u043e\u043b\u044e\u0442\u043d\u044b\u0439 \u043f\u0443\u0442\u044c \u0438\u043b\u0438 \u043e\u0442\u043d\u043e\u0441\u0438\u0442\u0435\u043b\u044c\u043d\u044b\u0439"
     ],
     "language": "python",
     "metadata": {},
     "outputs": [
      {
       "metadata": {},
       "output_type": "pyout",
       "prompt_number": 13,
       "text": [
        "True"
       ]
      }
     ],
     "prompt_number": 13
    },
    {
     "cell_type": "code",
     "collapsed": false,
     "input": [
      "os.path.isfile(tempFile) # \u042d\u0442\u043e \u0441\u0443\u0449\u0435\u0441\u0442\u0432\u0443\u044e\u0449\u0438\u0439 \u0444\u0430\u0439\u043b?"
     ],
     "language": "python",
     "metadata": {},
     "outputs": [
      {
       "metadata": {},
       "output_type": "pyout",
       "prompt_number": 14,
       "text": [
        "False"
       ]
      }
     ],
     "prompt_number": 14
    },
    {
     "cell_type": "code",
     "collapsed": false,
     "input": [
      "os.path.isdir(tempFile) # \u042d\u0442\u043e \u0441\u0443\u0449\u0435\u0441\u0442\u0432\u0443\u044e\u0449\u0430\u044f \u043f\u0430\u043f\u043a\u0430?"
     ],
     "language": "python",
     "metadata": {},
     "outputs": [
      {
       "metadata": {},
       "output_type": "pyout",
       "prompt_number": 15,
       "text": [
        "False"
       ]
      }
     ],
     "prompt_number": 15
    },
    {
     "cell_type": "heading",
     "level": 2,
     "metadata": {},
     "source": [
      "\u041c\u043e\u0434\u0443\u043b\u044c os"
     ]
    },
    {
     "cell_type": "markdown",
     "metadata": {},
     "source": [
      "\u0418\u0441\u0442\u043e\u0447\u043d\u0438\u043a (\u0440\u0430\u0437\u0434\u0435\u043b 15.1): https://docs.python.org/3.1/library/os.html#module-os\n",
      "\n",
      "\u0412 \u043e\u0441\u043d\u043e\u0432\u043d\u043e\u043c \u0442\u0430\u043c \u0432\u0441\u044f\u043a\u0430\u044f \u0441\u0438\u0441\u0442\u0435\u043c\u043d\u0430\u044f \u0435\u0440\u0443\u043d\u0434\u0430 \u0442\u0438\u043f\u0430:\n",
      "\n",
      "- \u0420\u0430\u0431\u043e\u0442\u0430 \u0441 \u043f\u0440\u043e\u0446\u0435\u0441\u0441\u0430\u043c\u0438\n",
      "- \u0420\u0430\u0431\u043e\u0442\u0430 \u0441 \u043f\u043e\u043b\u044c\u0437\u043e\u0432\u0430\u0442\u0435\u043b\u044f\u043c\u0438\n",
      "- \u041d\u0438\u0437\u043a\u043e\u0443\u0440\u043e\u0432\u043d\u0435\u0432\u0430\u044f \u0440\u0430\u0431\u043e\u0442\u0430 \u0441 \u0444\u0430\u0439\u043b\u0430\u043c\u0438 \u0438 \u043f\u0430\u043f\u043a\u0430\u043c\u0438"
     ]
    },
    {
     "cell_type": "code",
     "collapsed": false,
     "input": [
      "print('ROOT' in os.environ)\n",
      "# print(os.environ['ROOT']) - \u0443\u043f\u0430\u0434\u0451\u043c, \u0435\u0441\u043b\u0438 \u043d\u0435\u0442 ROOT\n",
      "print(os.getenv('ROOT'))\n",
      "print(os.getenv('ROOT', 'default ROOT'))\n",
      "print(os.environ['PATH'])\n",
      "#for k, v in os.environ.items():\n",
      "#    print(k + ': ' + v)"
     ],
     "language": "python",
     "metadata": {},
     "outputs": [
      {
       "output_type": "stream",
       "stream": "stdout",
       "text": [
        "False\n",
        "None\n",
        "default ROOT\n",
        "D:\\Data\\Anaconda3\\lib\\site-packages\\numpy\\core;C:\\Windows\\system32;C:\\Windows;C:\\Windows\\System32\\Wbem;C:\\Windows\\System32\\WindowsPowerShell\\v1.0\\;C:\\Program Files (x86)\\Microsoft SQL Server\\90\\Tools\\binn\\;C:\\Program Files\\TortoiseSVN\\bin;C:\\Program Files (x86)\\Windows Kits\\8.1\\Windows Performance Toolkit\\;C:\\Program Files\\Microsoft SQL Server\\110\\Tools\\Binn\\;D:\\Data\\Anaconda3;D:\\Data\\Anaconda3\\Scripts;\n"
       ]
      }
     ],
     "prompt_number": 17
    },
    {
     "cell_type": "code",
     "collapsed": false,
     "input": [
      "for d, s, f in os.walk(currentPath):\n",
      "    if len(f) > 0:\n",
      "        for fi in f:\n",
      "            print(os.path.join(d, fi))"
     ],
     "language": "python",
     "metadata": {},
     "outputs": [
      {
       "output_type": "stream",
       "stream": "stdout",
       "text": [
        "D:\\Documents\\Python\\Notebook\\ML_ABBYY_01_DemoSpamFiltering.ipynb\n",
        "D:\\Documents\\Python\\Notebook\\ML_ABBYY_01_Hometask_BasicPython.ipynb\n",
        "D:\\Documents\\Python\\Notebook\\ML_ABBYY_02_Hometask_SkinSegmentation.ipynb\n",
        "D:\\Documents\\Python\\Notebook\\Part 4 - Markdown Cells.ipynb\n",
        "D:\\Documents\\Python\\Notebook\\Summary 1. Notebook.ipynb\n",
        "D:\\Documents\\Python\\Notebook\\Summary 2. Python basics.ipynb\n",
        "D:\\Documents\\Python\\Notebook\\Summary 3.1. Strings.ipynb\n",
        "D:\\Documents\\Python\\Notebook\\Summary 3.2. File system.ipynb\n",
        "D:\\Documents\\Python\\Notebook\\Summary 3.3. Files.ipynb\n",
        "D:\\Documents\\Python\\Notebook\\Test2.ipynb\n",
        "D:\\Documents\\Python\\Notebook\\.ipynb_checkpoints\\ML_ABBYY_01_DemoSpamFiltering-checkpoint.ipynb\n",
        "D:\\Documents\\Python\\Notebook\\.ipynb_checkpoints\\ML_ABBYY_01_Hometask_BasicPython-checkpoint.ipynb\n",
        "D:\\Documents\\Python\\Notebook\\.ipynb_checkpoints\\Part 4 - Markdown Cells-checkpoint.ipynb\n",
        "D:\\Documents\\Python\\Notebook\\.ipynb_checkpoints\\Summary 1. Notebook-checkpoint.ipynb\n",
        "D:\\Documents\\Python\\Notebook\\.ipynb_checkpoints\\Summary 2. Python basics-checkpoint.ipynb\n",
        "D:\\Documents\\Python\\Notebook\\.ipynb_checkpoints\\Summary 3.1. Strings-checkpoint.ipynb\n",
        "D:\\Documents\\Python\\Notebook\\.ipynb_checkpoints\\Summary 3.2. File system-checkpoint.ipynb\n",
        "D:\\Documents\\Python\\Notebook\\.ipynb_checkpoints\\Summary 3.3. Files-checkpoint.ipynb\n",
        "D:\\Documents\\Python\\Notebook\\.ipynb_checkpoints\\Test2-checkpoint.ipynb\n",
        "D:\\Documents\\Python\\Notebook\\Examples_Anaconda3\\nbexecuter.py\n",
        "D:\\Documents\\Python\\Notebook\\Examples_Anaconda3\\README.md\n",
        "D:\\Documents\\Python\\Notebook\\Examples_Anaconda3\\TESTING.md\n",
        "D:\\Documents\\Python\\Notebook\\Examples_Anaconda3\\test_examples.py\n",
        "D:\\Documents\\Python\\Notebook\\Examples_Anaconda3\\__init__.py\n",
        "D:\\Documents\\Python\\Notebook\\Examples_Anaconda3\\app\\crossfilter\\crossfilter_app.py\n",
        "D:\\Documents\\Python\\Notebook\\Examples_Anaconda3\\app\\crossfilter\\README.md\n",
        "D:\\Documents\\Python\\Notebook\\Examples_Anaconda3\\app\\sliders_applet\\README.md\n",
        "D:\\Documents\\Python\\Notebook\\Examples_Anaconda3\\app\\sliders_applet\\sliders_app.py\n",
        "D:\\Documents\\Python\\Notebook\\Examples_Anaconda3\\app\\stock_applet\\flask_server.py\n",
        "D:\\Documents\\Python\\Notebook\\Examples_Anaconda3\\app\\stock_applet\\README.md\n",
        "D:\\Documents\\Python\\Notebook\\Examples_Anaconda3\\app\\stock_applet\\stock_app.py\n",
        "D:\\Documents\\Python\\Notebook\\Examples_Anaconda3\\charts\\boxplot.py\n",
        "D:\\Documents\\Python\\Notebook\\Examples_Anaconda3\\charts\\cat_heatmap.py\n",
        "D:\\Documents\\Python\\Notebook\\Examples_Anaconda3\\charts\\charts.ipynb\n",
        "D:\\Documents\\Python\\Notebook\\Examples_Anaconda3\\charts\\histograms.py\n",
        "D:\\Documents\\Python\\Notebook\\Examples_Anaconda3\\charts\\iris_scatter.py\n",
        "D:\\Documents\\Python\\Notebook\\Examples_Anaconda3\\charts\\stacked_bar.py\n",
        "D:\\Documents\\Python\\Notebook\\Examples_Anaconda3\\charts\\stocks_timeseries.py\n",
        "D:\\Documents\\Python\\Notebook\\Examples_Anaconda3\\compat\\ggplot\\density.py\n",
        "D:\\Documents\\Python\\Notebook\\Examples_Anaconda3\\compat\\ggplot\\line.py\n",
        "D:\\Documents\\Python\\Notebook\\Examples_Anaconda3\\compat\\ggplot\\step.py\n",
        "D:\\Documents\\Python\\Notebook\\Examples_Anaconda3\\compat\\ggplot\\xkcd_density.py\n",
        "D:\\Documents\\Python\\Notebook\\Examples_Anaconda3\\compat\\mpl\\lc_dashed.py\n",
        "D:\\Documents\\Python\\Notebook\\Examples_Anaconda3\\compat\\mpl\\lc_offsets.py\n",
        "D:\\Documents\\Python\\Notebook\\Examples_Anaconda3\\compat\\mpl\\listcollection.py\n",
        "D:\\Documents\\Python\\Notebook\\Examples_Anaconda3\\compat\\mpl\\polycollection.py\n",
        "D:\\Documents\\Python\\Notebook\\Examples_Anaconda3\\compat\\mpl\\subplots.py\n",
        "D:\\Documents\\Python\\Notebook\\Examples_Anaconda3\\compat\\mpl\\test.ipynb\n",
        "D:\\Documents\\Python\\Notebook\\Examples_Anaconda3\\compat\\mpl\\test.py\n",
        "D:\\Documents\\Python\\Notebook\\Examples_Anaconda3\\compat\\pandas\\dataframe.py\n",
        "D:\\Documents\\Python\\Notebook\\Examples_Anaconda3\\compat\\pandas\\series.py\n",
        "D:\\Documents\\Python\\Notebook\\Examples_Anaconda3\\compat\\seaborn\\kde.py\n",
        "D:\\Documents\\Python\\Notebook\\Examples_Anaconda3\\compat\\seaborn\\sinerror.py\n",
        "D:\\Documents\\Python\\Notebook\\Examples_Anaconda3\\compat\\seaborn\\violin.py\n",
        "D:\\Documents\\Python\\Notebook\\Examples_Anaconda3\\glyphs\\anscombe.py\n",
        "D:\\Documents\\Python\\Notebook\\Examples_Anaconda3\\glyphs\\buttons_server.py\n",
        "D:\\Documents\\Python\\Notebook\\Examples_Anaconda3\\glyphs\\choropleth.py\n",
        "D:\\Documents\\Python\\Notebook\\Examples_Anaconda3\\glyphs\\colors.py\n",
        "D:\\Documents\\Python\\Notebook\\Examples_Anaconda3\\glyphs\\colorspec.py\n",
        "D:\\Documents\\Python\\Notebook\\Examples_Anaconda3\\glyphs\\data_tables_server.py\n",
        "D:\\Documents\\Python\\Notebook\\Examples_Anaconda3\\glyphs\\dateaxis.py\n",
        "D:\\Documents\\Python\\Notebook\\Examples_Anaconda3\\glyphs\\daylight.py\n",
        "D:\\Documents\\Python\\Notebook\\Examples_Anaconda3\\glyphs\\donut.py\n",
        "D:\\Documents\\Python\\Notebook\\Examples_Anaconda3\\glyphs\\gauges.py\n",
        "D:\\Documents\\Python\\Notebook\\Examples_Anaconda3\\glyphs\\gears.py\n",
        "D:\\Documents\\Python\\Notebook\\Examples_Anaconda3\\glyphs\\glyph.ipynb\n",
        "D:\\Documents\\Python\\Notebook\\Examples_Anaconda3\\glyphs\\glyph1.py\n",
        "D:\\Documents\\Python\\Notebook\\Examples_Anaconda3\\glyphs\\glyph2_server.py\n",
        "D:\\Documents\\Python\\Notebook\\Examples_Anaconda3\\glyphs\\glyphs.py\n",
        "D:\\Documents\\Python\\Notebook\\Examples_Anaconda3\\glyphs\\grid.py\n",
        "D:\\Documents\\Python\\Notebook\\Examples_Anaconda3\\glyphs\\image_url.py\n",
        "D:\\Documents\\Python\\Notebook\\Examples_Anaconda3\\glyphs\\iris.py\n",
        "D:\\Documents\\Python\\Notebook\\Examples_Anaconda3\\glyphs\\iris_splom.py\n",
        "D:\\Documents\\Python\\Notebook\\Examples_Anaconda3\\glyphs\\line.py\n",
        "D:\\Documents\\Python\\Notebook\\Examples_Anaconda3\\glyphs\\line_animate.py\n",
        "D:\\Documents\\Python\\Notebook\\Examples_Anaconda3\\glyphs\\maps.py\n",
        "D:\\Documents\\Python\\Notebook\\Examples_Anaconda3\\glyphs\\population_server.py\n",
        "D:\\Documents\\Python\\Notebook\\Examples_Anaconda3\\glyphs\\prim_server.py\n",
        "D:\\Documents\\Python\\Notebook\\Examples_Anaconda3\\glyphs\\taylor_server.py\n",
        "D:\\Documents\\Python\\Notebook\\Examples_Anaconda3\\glyphs\\trail.py\n",
        "D:\\Documents\\Python\\Notebook\\Examples_Anaconda3\\glyphs\\twin_axis.py\n",
        "D:\\Documents\\Python\\Notebook\\Examples_Anaconda3\\glyphs\\widgets_server.py\n",
        "D:\\Documents\\Python\\Notebook\\Examples_Anaconda3\\glyphs\\__init__.py\n",
        "D:\\Documents\\Python\\Notebook\\Examples_Anaconda3\\plotting\\__init__.py\n",
        "D:\\Documents\\Python\\Notebook\\Examples_Anaconda3\\plotting\\file\\bollinger.py\n",
        "D:\\Documents\\Python\\Notebook\\Examples_Anaconda3\\plotting\\file\\boxplot.py\n",
        "D:\\Documents\\Python\\Notebook\\Examples_Anaconda3\\plotting\\file\\brewer.py\n",
        "D:\\Documents\\Python\\Notebook\\Examples_Anaconda3\\plotting\\file\\burtin.py\n",
        "D:\\Documents\\Python\\Notebook\\Examples_Anaconda3\\plotting\\file\\candlestick.py\n",
        "D:\\Documents\\Python\\Notebook\\Examples_Anaconda3\\plotting\\file\\categorical.py\n",
        "D:\\Documents\\Python\\Notebook\\Examples_Anaconda3\\plotting\\file\\choropleth.py\n",
        "D:\\Documents\\Python\\Notebook\\Examples_Anaconda3\\plotting\\file\\click.py\n",
        "D:\\Documents\\Python\\Notebook\\Examples_Anaconda3\\plotting\\file\\color_scatter.py\n",
        "D:\\Documents\\Python\\Notebook\\Examples_Anaconda3\\plotting\\file\\correlation.py\n",
        "D:\\Documents\\Python\\Notebook\\Examples_Anaconda3\\plotting\\file\\elements.py\n",
        "D:\\Documents\\Python\\Notebook\\Examples_Anaconda3\\plotting\\file\\glucose.py\n",
        "D:\\Documents\\Python\\Notebook\\Examples_Anaconda3\\plotting\\file\\glyphs.py\n",
        "D:\\Documents\\Python\\Notebook\\Examples_Anaconda3\\plotting\\file\\grid.py\n",
        "D:\\Documents\\Python\\Notebook\\Examples_Anaconda3\\plotting\\file\\histogram.py\n",
        "D:\\Documents\\Python\\Notebook\\Examples_Anaconda3\\plotting\\file\\hover.py\n",
        "D:\\Documents\\Python\\Notebook\\Examples_Anaconda3\\plotting\\file\\image.py\n",
        "D:\\Documents\\Python\\Notebook\\Examples_Anaconda3\\plotting\\file\\image_rgba.py\n",
        "D:\\Documents\\Python\\Notebook\\Examples_Anaconda3\\plotting\\file\\image_url.py\n",
        "D:\\Documents\\Python\\Notebook\\Examples_Anaconda3\\plotting\\file\\iris.py\n",
        "D:\\Documents\\Python\\Notebook\\Examples_Anaconda3\\plotting\\file\\legend.py\n",
        "D:\\Documents\\Python\\Notebook\\Examples_Anaconda3\\plotting\\file\\les_mis.py\n",
        "D:\\Documents\\Python\\Notebook\\Examples_Anaconda3\\plotting\\file\\line.py\n",
        "D:\\Documents\\Python\\Notebook\\Examples_Anaconda3\\plotting\\file\\logplot.py\n",
        "D:\\Documents\\Python\\Notebook\\Examples_Anaconda3\\plotting\\file\\lorenz.py\n",
        "D:\\Documents\\Python\\Notebook\\Examples_Anaconda3\\plotting\\file\\markers.py\n",
        "D:\\Documents\\Python\\Notebook\\Examples_Anaconda3\\plotting\\file\\periodic.py\n",
        "D:\\Documents\\Python\\Notebook\\Examples_Anaconda3\\plotting\\file\\rect.py\n",
        "D:\\Documents\\Python\\Notebook\\Examples_Anaconda3\\plotting\\file\\relative_paths.py\n",
        "D:\\Documents\\Python\\Notebook\\Examples_Anaconda3\\plotting\\file\\scatter.py\n",
        "D:\\Documents\\Python\\Notebook\\Examples_Anaconda3\\plotting\\file\\scatter_selection.py\n",
        "D:\\Documents\\Python\\Notebook\\Examples_Anaconda3\\plotting\\file\\stocks.py\n",
        "D:\\Documents\\Python\\Notebook\\Examples_Anaconda3\\plotting\\file\\texas.py\n",
        "D:\\Documents\\Python\\Notebook\\Examples_Anaconda3\\plotting\\file\\twin_axis.py\n",
        "D:\\Documents\\Python\\Notebook\\Examples_Anaconda3\\plotting\\file\\unemployment.py\n",
        "D:\\Documents\\Python\\Notebook\\Examples_Anaconda3\\plotting\\file\\vector.py\n",
        "D:\\Documents\\Python\\Notebook\\Examples_Anaconda3\\plotting\\file\\__init__.py\n",
        "D:\\Documents\\Python\\Notebook\\Examples_Anaconda3\\plotting\\notebook\\animated.ipynb\n",
        "D:\\Documents\\Python\\Notebook\\Examples_Anaconda3\\plotting\\notebook\\bollinger.ipynb\n",
        "D:\\Documents\\Python\\Notebook\\Examples_Anaconda3\\plotting\\notebook\\boxplot.ipynb\n",
        "D:\\Documents\\Python\\Notebook\\Examples_Anaconda3\\plotting\\notebook\\brewer.ipynb\n",
        "D:\\Documents\\Python\\Notebook\\Examples_Anaconda3\\plotting\\notebook\\burtin.ipynb\n",
        "D:\\Documents\\Python\\Notebook\\Examples_Anaconda3\\plotting\\notebook\\candlestick.ipynb\n",
        "D:\\Documents\\Python\\Notebook\\Examples_Anaconda3\\plotting\\notebook\\color_scatterplot.ipynb\n",
        "D:\\Documents\\Python\\Notebook\\Examples_Anaconda3\\plotting\\notebook\\correlation.ipynb\n",
        "D:\\Documents\\Python\\Notebook\\Examples_Anaconda3\\plotting\\notebook\\glucose.ipynb\n",
        "D:\\Documents\\Python\\Notebook\\Examples_Anaconda3\\plotting\\notebook\\glyphs.ipynb\n",
        "D:\\Documents\\Python\\Notebook\\Examples_Anaconda3\\plotting\\notebook\\line_server.ipynb\n",
        "D:\\Documents\\Python\\Notebook\\Examples_Anaconda3\\plotting\\notebook\\linked_brushing.ipynb\n",
        "D:\\Documents\\Python\\Notebook\\Examples_Anaconda3\\plotting\\notebook\\lorenz.ipynb\n",
        "D:\\Documents\\Python\\Notebook\\Examples_Anaconda3\\plotting\\notebook\\random_walk.ipynb\n",
        "D:\\Documents\\Python\\Notebook\\Examples_Anaconda3\\plotting\\notebook\\README.md\n",
        "D:\\Documents\\Python\\Notebook\\Examples_Anaconda3\\plotting\\notebook\\rect.ipynb\n",
        "D:\\Documents\\Python\\Notebook\\Examples_Anaconda3\\plotting\\notebook\\scatter.ipynb\n",
        "D:\\Documents\\Python\\Notebook\\Examples_Anaconda3\\plotting\\notebook\\stocks.ipynb\n",
        "D:\\Documents\\Python\\Notebook\\Examples_Anaconda3\\plotting\\notebook\\texas.ipynb\n",
        "D:\\Documents\\Python\\Notebook\\Examples_Anaconda3\\plotting\\notebook\\vector.ipynb\n",
        "D:\\Documents\\Python\\Notebook\\Examples_Anaconda3\\plotting\\server\\abstractrender.py\n",
        "D:\\Documents\\Python\\Notebook\\Examples_Anaconda3\\plotting\\server\\animated.py\n",
        "D:\\Documents\\Python\\Notebook\\Examples_Anaconda3\\plotting\\server\\bollinger.py\n",
        "D:\\Documents\\Python\\Notebook\\Examples_Anaconda3\\plotting\\server\\boxplot.py\n",
        "D:\\Documents\\Python\\Notebook\\Examples_Anaconda3\\plotting\\server\\brewer.py\n",
        "D:\\Documents\\Python\\Notebook\\Examples_Anaconda3\\plotting\\server\\burtin.py\n",
        "D:\\Documents\\Python\\Notebook\\Examples_Anaconda3\\plotting\\server\\candlestick.py\n",
        "D:\\Documents\\Python\\Notebook\\Examples_Anaconda3\\plotting\\server\\census.py\n",
        "D:\\Documents\\Python\\Notebook\\Examples_Anaconda3\\plotting\\server\\color_scatter.py\n",
        "D:\\Documents\\Python\\Notebook\\Examples_Anaconda3\\plotting\\server\\correlation.py\n",
        "D:\\Documents\\Python\\Notebook\\Examples_Anaconda3\\plotting\\server\\elements.py\n",
        "D:\\Documents\\Python\\Notebook\\Examples_Anaconda3\\plotting\\server\\glucose.py\n",
        "D:\\Documents\\Python\\Notebook\\Examples_Anaconda3\\plotting\\server\\glyphs.py\n",
        "D:\\Documents\\Python\\Notebook\\Examples_Anaconda3\\plotting\\server\\grid.py\n",
        "D:\\Documents\\Python\\Notebook\\Examples_Anaconda3\\plotting\\server\\image.py\n",
        "D:\\Documents\\Python\\Notebook\\Examples_Anaconda3\\plotting\\server\\image_rgba.py\n",
        "D:\\Documents\\Python\\Notebook\\Examples_Anaconda3\\plotting\\server\\iris.py\n",
        "D:\\Documents\\Python\\Notebook\\Examples_Anaconda3\\plotting\\server\\legend.py\n",
        "D:\\Documents\\Python\\Notebook\\Examples_Anaconda3\\plotting\\server\\line.py\n",
        "D:\\Documents\\Python\\Notebook\\Examples_Anaconda3\\plotting\\server\\line_animate.py\n",
        "D:\\Documents\\Python\\Notebook\\Examples_Anaconda3\\plotting\\server\\logplot.py\n",
        "D:\\Documents\\Python\\Notebook\\Examples_Anaconda3\\plotting\\server\\lorenz.py\n",
        "D:\\Documents\\Python\\Notebook\\Examples_Anaconda3\\plotting\\server\\markers.py\n",
        "D:\\Documents\\Python\\Notebook\\Examples_Anaconda3\\plotting\\server\\README.md\n",
        "D:\\Documents\\Python\\Notebook\\Examples_Anaconda3\\plotting\\server\\rect.py\n",
        "D:\\Documents\\Python\\Notebook\\Examples_Anaconda3\\plotting\\server\\remote_image.py\n",
        "D:\\Documents\\Python\\Notebook\\Examples_Anaconda3\\plotting\\server\\scatter.py\n",
        "D:\\Documents\\Python\\Notebook\\Examples_Anaconda3\\plotting\\server\\serversource.py\n",
        "D:\\Documents\\Python\\Notebook\\Examples_Anaconda3\\plotting\\server\\stocks.py\n",
        "D:\\Documents\\Python\\Notebook\\Examples_Anaconda3\\plotting\\server\\texas.py\n",
        "D:\\Documents\\Python\\Notebook\\Examples_Anaconda3\\plotting\\server\\vector.py\n",
        "D:\\Documents\\Python\\Notebook\\Examples_Anaconda3\\plotting\\server\\__init__.py\n",
        "D:\\Documents\\Python\\Notebook\\Examples_ipython-1.x\\core\\appconfig.py\n",
        "D:\\Documents\\Python\\Notebook\\Examples_ipython-1.x\\core\\display.py\n",
        "D:\\Documents\\Python\\Notebook\\Examples_ipython-1.x\\core\\example-embed-short.py\n",
        "D:\\Documents\\Python\\Notebook\\Examples_ipython-1.x\\core\\example-embed.py\n",
        "D:\\Documents\\Python\\Notebook\\Examples_ipython-1.x\\core\\ipython-completion.bash\n",
        "D:\\Documents\\Python\\Notebook\\Examples_ipython-1.x\\core\\ipython-get-history.py\n",
        "D:\\Documents\\Python\\Notebook\\Examples_ipython-1.x\\core\\ipython-qtconsole.desktop\n",
        "D:\\Documents\\Python\\Notebook\\Examples_ipython-1.x\\core\\ipython.desktop\n",
        "D:\\Documents\\Python\\Notebook\\Examples_ipython-1.x\\core\\ipython_here_shell_extension.reg\n",
        "D:\\Documents\\Python\\Notebook\\Examples_ipython-1.x\\core\\new-embed.py\n",
        "D:\\Documents\\Python\\Notebook\\Examples_ipython-1.x\\core\\seteditor.py\n",
        "D:\\Documents\\Python\\Notebook\\Examples_ipython-1.x\\inprocess\\embedded_qtconsole.py\n",
        "D:\\Documents\\Python\\Notebook\\Examples_ipython-1.x\\inprocess\\embedded_terminal.py\n",
        "D:\\Documents\\Python\\Notebook\\Examples_ipython-1.x\\lib\\BackgroundJobs.ipynb\n",
        "D:\\Documents\\Python\\Notebook\\Examples_ipython-1.x\\lib\\example-demo.py\n",
        "D:\\Documents\\Python\\Notebook\\Examples_ipython-1.x\\lib\\gui-glut.py\n",
        "D:\\Documents\\Python\\Notebook\\Examples_ipython-1.x\\lib\\gui-gtk.py\n",
        "D:\\Documents\\Python\\Notebook\\Examples_ipython-1.x\\lib\\gui-gtk3.py\n",
        "D:\\Documents\\Python\\Notebook\\Examples_ipython-1.x\\lib\\gui-pyglet.py\n",
        "D:\\Documents\\Python\\Notebook\\Examples_ipython-1.x\\lib\\gui-qt.py\n",
        "D:\\Documents\\Python\\Notebook\\Examples_ipython-1.x\\lib\\gui-tk.py\n",
        "D:\\Documents\\Python\\Notebook\\Examples_ipython-1.x\\lib\\gui-wx.py\n",
        "D:\\Documents\\Python\\Notebook\\Examples_ipython-1.x\\lib\\internal_ipkernel.py\n",
        "D:\\Documents\\Python\\Notebook\\Examples_ipython-1.x\\lib\\ipkernel_qtapp.py\n",
        "D:\\Documents\\Python\\Notebook\\Examples_ipython-1.x\\lib\\ipkernel_wxapp.py\n",
        "D:\\Documents\\Python\\Notebook\\Examples_ipython-1.x\\notebooks\\animation.m4v\n",
        "D:\\Documents\\Python\\Notebook\\Examples_ipython-1.x\\notebooks\\Animations Using clear_output.ipynb\n",
        "D:\\Documents\\Python\\Notebook\\Examples_ipython-1.x\\notebooks\\Cell Magics.ipynb\n",
        "D:\\Documents\\Python\\Notebook\\Examples_ipython-1.x\\notebooks\\Custom Display Logic.ipynb\n",
        "D:\\Documents\\Python\\Notebook\\Examples_ipython-1.x\\notebooks\\Cython Magics.ipynb\n",
        "D:\\Documents\\Python\\Notebook\\Examples_ipython-1.x\\notebooks\\Data Publication API.ipynb\n",
        "D:\\Documents\\Python\\Notebook\\Examples_ipython-1.x\\notebooks\\Frontend-Kernel Model.ipynb\n",
        "D:\\Documents\\Python\\Notebook\\Examples_ipython-1.x\\notebooks\\Importing Notebooks.ipynb\n",
        "D:\\Documents\\Python\\Notebook\\Examples_ipython-1.x\\notebooks\\Octave Magic.ipynb\n",
        "D:\\Documents\\Python\\Notebook\\Examples_ipython-1.x\\notebooks\\Part 1 - Running Code.ipynb\n",
        "D:\\Documents\\Python\\Notebook\\Examples_ipython-1.x\\notebooks\\Part 2 - Basic Output.ipynb\n",
        "D:\\Documents\\Python\\Notebook\\Examples_ipython-1.x\\notebooks\\Part 3 - Plotting with Matplotlib.ipynb\n",
        "D:\\Documents\\Python\\Notebook\\Examples_ipython-1.x\\notebooks\\Part 4 - Markdown Cells.ipynb\n",
        "D:\\Documents\\Python\\Notebook\\Examples_ipython-1.x\\notebooks\\Part 5 - Rich Display System.ipynb\n",
        "D:\\Documents\\Python\\Notebook\\Examples_ipython-1.x\\notebooks\\Progress Bars.ipynb\n",
        "D:\\Documents\\Python\\Notebook\\Examples_ipython-1.x\\notebooks\\python-logo.svg\n",
        "D:\\Documents\\Python\\Notebook\\Examples_ipython-1.x\\notebooks\\R Magics.ipynb\n",
        "D:\\Documents\\Python\\Notebook\\Examples_ipython-1.x\\notebooks\\README.md\n",
        "D:\\Documents\\Python\\Notebook\\Examples_ipython-1.x\\notebooks\\Script Magics.ipynb\n",
        "D:\\Documents\\Python\\Notebook\\Examples_ipython-1.x\\notebooks\\SymPy Examples.ipynb\n",
        "D:\\Documents\\Python\\Notebook\\Examples_ipython-1.x\\notebooks\\Trapezoid Rule.ipynb\n",
        "D:\\Documents\\Python\\Notebook\\Examples_ipython-1.x\\notebooks\\Typesetting Math Using MathJax.ipynb\n",
        "D:\\Documents\\Python\\Notebook\\Examples_ipython-1.x\\notebooks\\.ipynb_checkpoints\\Cell Magics-checkpoint.ipynb\n",
        "D:\\Documents\\Python\\Notebook\\Examples_ipython-1.x\\notebooks\\.ipynb_checkpoints\\Part 1 - Running Code-checkpoint.ipynb\n",
        "D:\\Documents\\Python\\Notebook\\Examples_ipython-1.x\\notebooks\\.ipynb_checkpoints\\Part 2 - Basic Output-checkpoint.ipynb\n",
        "D:\\Documents\\Python\\Notebook\\Examples_ipython-1.x\\notebooks\\.ipynb_checkpoints\\Part 3 - Plotting with Matplotlib-checkpoint.ipynb\n",
        "D:\\Documents\\Python\\Notebook\\Examples_ipython-1.x\\notebooks\\.ipynb_checkpoints\\Part 4 - Markdown Cells-checkpoint.ipynb\n",
        "D:\\Documents\\Python\\Notebook\\Examples_ipython-1.x\\notebooks\\.ipynb_checkpoints\\Progress Bars-checkpoint.ipynb\n",
        "D:\\Documents\\Python\\Notebook\\Examples_ipython-1.x\\notebooks\\.ipynb_checkpoints\\SymPy Examples-checkpoint.ipynb\n",
        "D:\\Documents\\Python\\Notebook\\Examples_ipython-1.x\\notebooks\\logo\\logo.png\n",
        "D:\\Documents\\Python\\Notebook\\Examples_ipython-1.x\\notebooks\\nbimp\\mynotebook.ipynb\n",
        "D:\\Documents\\Python\\Notebook\\Examples_ipython-1.x\\notebooks\\nbimp\\__init__.py\n",
        "D:\\Documents\\Python\\Notebook\\Examples_ipython-1.x\\notebooks\\nbimp\\nbs\\other.ipynb\n",
        "D:\\Documents\\Python\\Notebook\\Examples_ipython-1.x\\notebooks\\nbimp\\nbs\\__init__.py\n",
        "D:\\Documents\\Python\\Notebook\\Examples_ipython-1.x\\parallel\\customresults.py\n",
        "D:\\Documents\\Python\\Notebook\\Examples_ipython-1.x\\parallel\\dagdeps.py\n",
        "D:\\Documents\\Python\\Notebook\\Examples_ipython-1.x\\parallel\\fetchparse.py\n",
        "D:\\Documents\\Python\\Notebook\\Examples_ipython-1.x\\parallel\\helloworld.ipynb\n",
        "D:\\Documents\\Python\\Notebook\\Examples_ipython-1.x\\parallel\\helloworld.py\n",
        "D:\\Documents\\Python\\Notebook\\Examples_ipython-1.x\\parallel\\InteractiveMPI-publish-data.ipynb\n",
        "D:\\Documents\\Python\\Notebook\\Examples_ipython-1.x\\parallel\\InteractiveMPI.ipynb\n",
        "D:\\Documents\\Python\\Notebook\\Examples_ipython-1.x\\parallel\\iopubwatcher.py\n",
        "D:\\Documents\\Python\\Notebook\\Examples_ipython-1.x\\parallel\\itermapresult.py\n",
        "D:\\Documents\\Python\\Notebook\\Examples_ipython-1.x\\parallel\\multiengine1.ipy\n",
        "D:\\Documents\\Python\\Notebook\\Examples_ipython-1.x\\parallel\\multiengine2.py\n",
        "D:\\Documents\\Python\\Notebook\\Examples_ipython-1.x\\parallel\\multienginemap.py\n",
        "D:\\Documents\\Python\\Notebook\\Examples_ipython-1.x\\parallel\\nwmerge.py\n",
        "D:\\Documents\\Python\\Notebook\\Examples_ipython-1.x\\parallel\\Parallel Magics.ipynb\n",
        "D:\\Documents\\Python\\Notebook\\Examples_ipython-1.x\\parallel\\parallel_mpi.ipynb\n",
        "D:\\Documents\\Python\\Notebook\\Examples_ipython-1.x\\parallel\\parallel_pylab.ipy\n",
        "D:\\Documents\\Python\\Notebook\\Examples_ipython-1.x\\parallel\\phistogram.py\n",
        "D:\\Documents\\Python\\Notebook\\Examples_ipython-1.x\\parallel\\task1.ipynb\n",
        "D:\\Documents\\Python\\Notebook\\Examples_ipython-1.x\\parallel\\task1.py\n",
        "D:\\Documents\\Python\\Notebook\\Examples_ipython-1.x\\parallel\\task2.py\n",
        "D:\\Documents\\Python\\Notebook\\Examples_ipython-1.x\\parallel\\taskmap.ipynb\n",
        "D:\\Documents\\Python\\Notebook\\Examples_ipython-1.x\\parallel\\taskmap.py\n",
        "D:\\Documents\\Python\\Notebook\\Examples_ipython-1.x\\parallel\\task_profiler.py\n",
        "D:\\Documents\\Python\\Notebook\\Examples_ipython-1.x\\parallel\\davinci\\pwordfreq.py\n",
        "D:\\Documents\\Python\\Notebook\\Examples_ipython-1.x\\parallel\\davinci\\wordfreq.py\n",
        "D:\\Documents\\Python\\Notebook\\Examples_ipython-1.x\\parallel\\demo\\dependencies.py\n",
        "D:\\Documents\\Python\\Notebook\\Examples_ipython-1.x\\parallel\\demo\\map.py\n",
        "D:\\Documents\\Python\\Notebook\\Examples_ipython-1.x\\parallel\\demo\\noncopying.py\n",
        "D:\\Documents\\Python\\Notebook\\Examples_ipython-1.x\\parallel\\demo\\throughput.py\n",
        "D:\\Documents\\Python\\Notebook\\Examples_ipython-1.x\\parallel\\demo\\views.py\n",
        "D:\\Documents\\Python\\Notebook\\Examples_ipython-1.x\\parallel\\interengine\\bintree.py\n",
        "D:\\Documents\\Python\\Notebook\\Examples_ipython-1.x\\parallel\\interengine\\bintree_script.py\n",
        "D:\\Documents\\Python\\Notebook\\Examples_ipython-1.x\\parallel\\interengine\\communicator.py\n",
        "D:\\Documents\\Python\\Notebook\\Examples_ipython-1.x\\parallel\\interengine\\interengine.py\n",
        "D:\\Documents\\Python\\Notebook\\Examples_ipython-1.x\\parallel\\options\\Parallel MC Options.ipynb\n",
        "D:\\Documents\\Python\\Notebook\\Examples_ipython-1.x\\parallel\\pi\\parallelpi.py\n",
        "D:\\Documents\\Python\\Notebook\\Examples_ipython-1.x\\parallel\\pi\\pidigits.py\n",
        "D:\\Documents\\Python\\Notebook\\Examples_ipython-1.x\\parallel\\plotting\\plotting_backend.py\n",
        "D:\\Documents\\Python\\Notebook\\Examples_ipython-1.x\\parallel\\plotting\\plotting_frontend.py\n",
        "D:\\Documents\\Python\\Notebook\\Examples_ipython-1.x\\parallel\\rmt\\rmt.ipy\n",
        "D:\\Documents\\Python\\Notebook\\Examples_ipython-1.x\\parallel\\rmt\\rmt.ipynb\n",
        "D:\\Documents\\Python\\Notebook\\Examples_ipython-1.x\\parallel\\rmt\\rmtkernel.py\n",
        "D:\\Documents\\Python\\Notebook\\Examples_ipython-1.x\\parallel\\wave2D\\communicator.py\n",
        "D:\\Documents\\Python\\Notebook\\Examples_ipython-1.x\\parallel\\wave2D\\parallelwave-mpi.py\n",
        "D:\\Documents\\Python\\Notebook\\Examples_ipython-1.x\\parallel\\wave2D\\parallelwave.py\n",
        "D:\\Documents\\Python\\Notebook\\Examples_ipython-1.x\\parallel\\wave2D\\RectPartitioner.py\n",
        "D:\\Documents\\Python\\Notebook\\Examples_ipython-1.x\\parallel\\wave2D\\wavesolver.py\n",
        "D:\\Documents\\Python\\Notebook\\Examples_ipython-1.x\\parallel\\workflow\\client.py\n",
        "D:\\Documents\\Python\\Notebook\\Examples_ipython-1.x\\parallel\\workflow\\job_wrapper.py\n",
        "D:\\Documents\\Python\\Notebook\\Examples_ipython-1.x\\parallel\\workflow\\wmanager.py\n",
        "D:\\Documents\\Python\\Notebook\\Examples_ipython-1.x\\tests\\ANSI Test.ipynb\n",
        "D:\\Documents\\Python\\Notebook\\Examples_ipython-1.x\\tests\\CSS Reference.ipynb\n",
        "D:\\Documents\\Python\\Notebook\\Examples_ipython-1.x\\tests\\pylab_figshow.py\n",
        "D:\\Documents\\Python\\Notebook\\Examples_ipython-1.x\\tests\\embed\\embed1.py\n",
        "D:\\Documents\\Python\\Notebook\\Examples_ipython-1.x\\tests\\embed\\embed2.py\n",
        "D:\\Documents\\Python\\Notebook\\Examples_ipython-1.x\\tests\\embed\\embed3.py\n",
        "D:\\Documents\\Python\\Notebook\\Examples_ipython-1.x\\tests\\embed\\embed_division.py\n",
        "D:\\Documents\\Python\\Notebook\\Examples_ipython-1.x\\tests\\embed\\embed_no_division.py\n",
        "D:\\Documents\\Python\\Notebook\\Examples_ipython-1.x\\tests\\heartbeat\\gilsleep.ipynb\n",
        "D:\\Documents\\Python\\Notebook\\Examples_ipython-1.x\\tests\\heartbeat\\hb_gil.py\n",
        "D:\\Documents\\Python\\Notebook\\Examples_ipython-1.x\\tests\\pylab-switch\\Pylab Switching.ipynb\n",
        "D:\\Documents\\Python\\Notebook\\Examples_ipython-1.x\\widgets\\directview\\directview.ipynb\n",
        "D:\\Documents\\Python\\Notebook\\Examples_ipython-1.x\\widgets\\directview\\directview.js\n",
        "D:\\Documents\\Python\\Notebook\\Examples_ipython-1.x\\widgets\\directview\\directview.py\n",
        "D:\\Documents\\Python\\Notebook\\Examples_ipython-1.x\\widgets\\directview\\widget.py\n"
       ]
      }
     ],
     "prompt_number": 43
    },
    {
     "cell_type": "code",
     "collapsed": false,
     "input": [
      "tempDir = os.path.abspath('Temp')\n",
      "if not os.path.exists(tempDir):\n",
      "    # \u041d\u0430\u0432\u0435\u0440\u043d\u043e\u0435 \u043b\u0443\u0447\u0448\u0435 os.mkdirs - \u043e\u043d \u0441\u043e\u0437\u0434\u0430\u0451\u0442 \u0432\u0441\u044e \u0432\u0435\u0442\u043a\u0443\n",
      "    os.mkdir(tempDir)\n",
      "os.chdir(tempDir)\n",
      "print(os.getcwd())\n",
      "os.chdir(currentPath)\n",
      "print('listdir:', *os.listdir(currentPath), sep='\\n  ')\n",
      "\n",
      "import errno\n",
      "try:\n",
      "    os.rename(tempDir, 'Temp2')\n",
      "    tempDir2 = os.path.abspath('Temp2')\n",
      "    os.rename(tempDir2, 'Temp')\n",
      "except IOError as e:\n",
      "    print(errno.errorcode[e.errno])\n",
      "    print(e.errno == errno.EEXIST)\n",
      "    print(e)"
     ],
     "language": "python",
     "metadata": {},
     "outputs": [
      {
       "output_type": "stream",
       "stream": "stdout",
       "text": [
        "D:\\Documents\\Python\\Notebook\\Temp\n",
        "listdir:\n",
        "  .ipynb_checkpoints\n",
        "  Examples_Anaconda3\n",
        "  Examples_ipython-1.x\n",
        "  ML_ABBYY_01_DemoSpamFiltering.ipynb\n",
        "  ML_ABBYY_01_Hometask_BasicPython.ipynb\n",
        "  ML_ABBYY_02_Hometask_SkinSegmentation.ipynb\n",
        "  Part 4 - Markdown Cells.ipynb\n",
        "  Summary 1. Notebook.ipynb\n",
        "  Summary 2. Python basics.ipynb\n",
        "  Summary 3.1. Strings.ipynb\n",
        "  Summary 3.2. File system.ipynb\n",
        "  Summary 3.3. Files.ipynb\n",
        "  Temp\n",
        "  Temp2\n",
        "  Test2.ipynb\n",
        "EEXIST\n",
        "True\n",
        "[WinError 183] Cannot create a file when that file already exists: 'D:\\\\Documents\\\\Python\\\\Notebook\\\\Temp' -> 'Temp2'\n"
       ]
      }
     ],
     "prompt_number": 109
    },
    {
     "cell_type": "heading",
     "level": 2,
     "metadata": {},
     "source": [
      "\u041c\u043e\u0434\u0443\u043b\u044c shutil"
     ]
    },
    {
     "cell_type": "markdown",
     "metadata": {},
     "source": [
      "\u0418\u0441\u0442\u043e\u0447\u043d\u0438\u043a (\u0440\u0430\u0437\u0434\u0435\u043b 10.9): https://docs.python.org/3.1/library/shutil.html#module-shutil"
     ]
    },
    {
     "cell_type": "markdown",
     "metadata": {},
     "source": [
      "\u0423\u0434\u0430\u043b\u044f\u0442\u044c \u043f\u0430\u043f\u043a\u0438 \u043b\u0443\u0447\u0448\u0435 \u043d\u0435 \u0441\u0440\u0435\u0434\u0441\u0442\u0432\u0430\u043c\u0438 \u043c\u043e\u0434\u0443\u043b\u044f os (\u043c\u0435\u0442\u043e\u0434\u044b os.remove, os.rmdir), \u0430 \u0441 \u043f\u043e\u043c\u043e\u0449\u044c\u044e \u0431\u043e\u043b\u0435\u0435 \u0432\u044b\u0441\u043e\u043a\u043e\u0443\u0440\u043e\u0432\u043d\u0435\u0432\u043e\u0433\u043e shutil."
     ]
    },
    {
     "cell_type": "code",
     "collapsed": false,
     "input": [
      "import shutil\n",
      "shutil.rmtree(tempDir)"
     ],
     "language": "python",
     "metadata": {},
     "outputs": [],
     "prompt_number": 111
    },
    {
     "cell_type": "markdown",
     "metadata": {},
     "source": [
      "\u0412 \u044d\u0442\u043e\u043c \u043c\u043e\u0434\u0443\u043b\u0435 \u0435\u0441\u0442\u044c \u0435\u0449\u0451 \u043d\u0435\u0441\u043a\u043e\u043b\u044c\u043a\u043e \u043f\u043e\u043b\u0435\u0437\u043d\u044b\u0445 \u0444\u0443\u043d\u043a\u0446\u0438\u0439. \u041d\u0430\u043f\u0440\u0438\u043c\u0435\u0440, \u043f\u0435\u0440\u0435\u0438\u043c\u0435\u043d\u043e\u0432\u0430\u043d\u0438\u0435 \u0438\u043b\u0438 \u043a\u043e\u043f\u0438\u0440\u043e\u0432\u0430\u043d\u0438\u0435 \u0444\u0430\u0439\u043b\u043e\u0432 \u0438\u043b\u0438 \u043f\u0430\u043f\u043e\u043a."
     ]
    }
   ],
   "metadata": {}
  }
 ]
}